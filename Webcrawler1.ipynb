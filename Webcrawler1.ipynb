{
 "cells": [
  {
   "cell_type": "code",
   "execution_count": 1,
   "metadata": {},
   "outputs": [],
   "source": [
    "import urllib\n",
    "from urllib import request\n",
    "from bs4 import BeautifulSoup\n",
    "import codecs\n",
    "import re\n",
    "import string\n",
    "from os import listdir\n",
    "from os.path import isfile, join\n",
    "import nltk\n",
    "from nltk.corpus import stopwords\n",
    "import math\n",
    "from textblob import TextBlob as tb\n",
    "\n"
   ]
  },
  {
   "cell_type": "code",
   "execution_count": 13,
   "metadata": {},
   "outputs": [
    {
     "name": "stdout",
     "output_type": "stream",
     "text": [
      "out/url-1.txt\n",
      "out/url-2.txt\n",
      "out/url-3.txt\n",
      "out/url-4.txt\n",
      "out/url-5.txt\n",
      "out/url-6.txt\n",
      "out/url-7.txt\n",
      "out/url-8.txt\n",
      "out/url-9.txt\n",
      "out/url-10.txt\n",
      "out/url-11.txt\n",
      "out/url-12.txt\n",
      "out/url-13.txt\n",
      "out/url-14.txt\n",
      "out/url-15.txt\n"
     ]
    }
   ],
   "source": [
    "\n",
    "\n",
    "# scrapping from URL list\n",
    "def scrapText():\n",
    "    with open('urls.txt', 'r') as f:\n",
    "        urls = f.read()\n",
    "    urls = urls.split('\\n')\n",
    "    urls = [x for x in urls if x] \n",
    "# Looping through the urls\n",
    "    idx = 0\n",
    "    for url in urls:\n",
    "        idx += 1\n",
    "        html = request.urlopen(url).read().decode('utf8')\n",
    "        soup = BeautifulSoup(html)\n",
    "        \n",
    "        # kill all script and style elements\n",
    "        for script in soup([\"script\", \"style\"]):\n",
    "            script.extract()    # rip it out   \n",
    "        # extract text\n",
    "        text = soup.get_text()\n",
    "        texts = text.split('\\n')\n",
    "        resstr = ''\n",
    "        for line in texts:   #Looping the sentenes for each file to a new file\n",
    "            if (line != ''):\n",
    "                resstr += line + '\\n'\n",
    "        # Save into text files\n",
    "        with codecs.open('out/url-' + str(idx) + '.txt', 'w', 'utf-8') as f:\n",
    "            f.write(resstr)\n",
    "        print('out/url-' + str(idx) + '.txt')\n",
    "scrapText()\n"
   ]
  },
  {
   "cell_type": "code",
   "execution_count": 14,
   "metadata": {},
   "outputs": [
    {
     "name": "stdout",
     "output_type": "stream",
     "text": [
      "cleaned_out/url-1.txt\n",
      "cleaned_out/url-2.txt\n",
      "cleaned_out/url-3.txt\n",
      "cleaned_out/url-4.txt\n",
      "cleaned_out/url-5.txt\n",
      "cleaned_out/url-6.txt\n",
      "cleaned_out/url-7.txt\n",
      "cleaned_out/url-8.txt\n",
      "cleaned_out/url-9.txt\n",
      "cleaned_out/url-10.txt\n",
      "cleaned_out/url-11.txt\n",
      "cleaned_out/url-12.txt\n",
      "cleaned_out/url-13.txt\n",
      "cleaned_out/url-14.txt\n",
      "cleaned_out/url-15.txt\n"
     ]
    }
   ],
   "source": [
    "# Clean text files\n",
    "def cleanText():\n",
    "    idx = 0\n",
    "    files = listdir('out/')\n",
    "    for i in files:\n",
    "        idx += 1\n",
    "        file = join('out', i)\n",
    "        with codecs.open(file, 'r', 'utf-8') as tf:\n",
    "            text = tf.read()\n",
    "        text_chunks = [chunk for chunk in text.splitlines() if not re.match(r'^\\s*$', chunk)]\n",
    "        chunk_str = ''\n",
    "        for i, chunk in enumerate(text_chunks):\n",
    "            chunk_str += chunk + ' '\n",
    "        # write into new file\n",
    "        with codecs.open('cleaned_out/url-' + str(idx) + '.txt', 'w', 'utf-8') as f:\n",
    "            f.write(chunk_str)\n",
    "        print('cleaned_out/url-' + str(idx) + '.txt')\n",
    "        \n",
    "cleanText()"
   ]
  },
  {
   "cell_type": "code",
   "execution_count": 15,
   "metadata": {},
   "outputs": [],
   "source": [
    "# using tf_idf method to extract top important terms\n",
    "def tf(word, blob):\n",
    "    return blob.words.count(word) / len(blob.words)\n",
    "\n",
    "def n_containing(word, bloblist):\n",
    "    return sum(1 for blob in bloblist if word in blob.words)\n",
    "\n",
    "def idf(word, bloblist):\n",
    "    return math.log(len(bloblist) / (1 + n_containing(word, bloblist)))\n",
    "\n",
    "def tfidf(word, blob, bloblist):\n",
    "    return tf(word, blob) * idf(word, bloblist)\n",
    "\n",
    "def getHighFrequency():\n",
    "    bloblist = []"
   ]
  },
  {
   "cell_type": "code",
   "execution_count": 16,
   "metadata": {},
   "outputs": [
    {
     "ename": "NameError",
     "evalue": "name 'bloblist' is not defined",
     "output_type": "error",
     "traceback": [
      "\u001b[1;31m---------------------------------------------------------------------------\u001b[0m",
      "\u001b[1;31mNameError\u001b[0m                                 Traceback (most recent call last)",
      "\u001b[1;32m<ipython-input-16-c978a5cd57d6>\u001b[0m in \u001b[0;36m<module>\u001b[1;34m\u001b[0m\n\u001b[0;32m     10\u001b[0m \u001b[1;33m\u001b[0m\u001b[0m\n\u001b[0;32m     11\u001b[0m     \u001b[0mtext\u001b[0m \u001b[1;33m=\u001b[0m \u001b[0mtext\u001b[0m\u001b[1;33m.\u001b[0m\u001b[0mlower\u001b[0m\u001b[1;33m(\u001b[0m\u001b[1;33m)\u001b[0m\u001b[1;33m\u001b[0m\u001b[1;33m\u001b[0m\u001b[0m\n\u001b[1;32m---> 12\u001b[1;33m     \u001b[0mbloblist\u001b[0m\u001b[1;33m.\u001b[0m\u001b[0mappend\u001b[0m\u001b[1;33m(\u001b[0m\u001b[0mtb\u001b[0m\u001b[1;33m(\u001b[0m\u001b[0mtext\u001b[0m\u001b[1;33m)\u001b[0m\u001b[1;33m)\u001b[0m\u001b[1;33m\u001b[0m\u001b[1;33m\u001b[0m\u001b[0m\n\u001b[0m\u001b[0;32m     13\u001b[0m     \u001b[1;31m# Initialize the FreqDist\u001b[0m\u001b[1;33m\u001b[0m\u001b[1;33m\u001b[0m\u001b[1;33m\u001b[0m\u001b[0m\n\u001b[0;32m     14\u001b[0m     \u001b[0mFreqDist\u001b[0m \u001b[1;33m=\u001b[0m \u001b[1;32mNone\u001b[0m\u001b[1;33m\u001b[0m\u001b[1;33m\u001b[0m\u001b[0m\n",
      "\u001b[1;31mNameError\u001b[0m: name 'bloblist' is not defined"
     ]
    }
   ],
   "source": [
    "    # Get the stopwords with English\n",
    "    stop_words = set(stopwords.words('english'))\n",
    "    idx = 0\n",
    "    files = listdir('cleaned_out/')\n",
    "    for i in files:\n",
    "        idx += 1\n",
    "        file = join('cleaned_out', i)\n",
    "        with codecs.open(file, 'r', 'utf-8') as tf:\n",
    "            text = tf.read()\n",
    "    \n",
    "        text = text.lower()\n",
    "        bloblist.append(tb(text))\n",
    "        # Initialize the FreqDist\n",
    "        FreqDist = None\n",
    "        # Remove punctuation symbols before tokenizing\n",
    "        no_punc_str = \" \".join(\"\".join([\" \" if ch in string.punctuation else ch for ch in text]).split())\n",
    "        # Extract tokens by using NLTK tokenizer\n",
    "        words = nltk.tokenize.word_tokenize(no_punc_str)\n",
    "        # Remove stopwords\n",
    "        no_stop_words = [w for w in words if not w in stop_words]    \n",
    "        # cumulative FreqDist for all files\n",
    "        if (FreqDist == None):\n",
    "            FreqDist = nltk.FreqDist(no_stop_words)\n",
    "        else:\n",
    "            FreqDist += nltk.FreqDist(no_stop_words)\n",
    "        # Sort and get the most 10 common words\n",
    "        sortedFDist = sorted(FreqDist , key = FreqDist.__getitem__, reverse = True)\n",
    "        common = sortedFDist[:25]\n",
    "        #for j in common:\n",
    "        #    print (common.index(j)+1, j)\n",
    "        # print('='*50)"
   ]
  },
  {
   "cell_type": "code",
   "execution_count": 17,
   "metadata": {},
   "outputs": [
    {
     "ename": "NameError",
     "evalue": "name 'bloblist' is not defined",
     "output_type": "error",
     "traceback": [
      "\u001b[1;31m---------------------------------------------------------------------------\u001b[0m",
      "\u001b[1;31mNameError\u001b[0m                                 Traceback (most recent call last)",
      "\u001b[1;32m<ipython-input-17-ddc56f4c2c02>\u001b[0m in \u001b[0;36m<module>\u001b[1;34m\u001b[0m\n\u001b[1;32m----> 1\u001b[1;33m \u001b[1;32mfor\u001b[0m \u001b[0mi\u001b[0m\u001b[1;33m,\u001b[0m \u001b[0mblob\u001b[0m \u001b[1;32min\u001b[0m \u001b[0menumerate\u001b[0m\u001b[1;33m(\u001b[0m\u001b[0mbloblist\u001b[0m\u001b[1;33m)\u001b[0m\u001b[1;33m:\u001b[0m\u001b[1;33m\u001b[0m\u001b[1;33m\u001b[0m\u001b[0m\n\u001b[0m\u001b[0;32m      2\u001b[0m     \u001b[0mprint\u001b[0m\u001b[1;33m(\u001b[0m\u001b[1;34m\"Top words in document {}\"\u001b[0m\u001b[1;33m.\u001b[0m\u001b[0mformat\u001b[0m\u001b[1;33m(\u001b[0m\u001b[0mi\u001b[0m \u001b[1;33m+\u001b[0m \u001b[1;36m1\u001b[0m\u001b[1;33m)\u001b[0m\u001b[1;33m)\u001b[0m\u001b[1;33m\u001b[0m\u001b[1;33m\u001b[0m\u001b[0m\n\u001b[0;32m      3\u001b[0m     \u001b[0mscores\u001b[0m \u001b[1;33m=\u001b[0m \u001b[1;33m{\u001b[0m\u001b[0mword\u001b[0m\u001b[1;33m:\u001b[0m \u001b[0mtfidf\u001b[0m\u001b[1;33m(\u001b[0m\u001b[0mword\u001b[0m\u001b[1;33m,\u001b[0m \u001b[0mblob\u001b[0m\u001b[1;33m,\u001b[0m \u001b[0mbloblist\u001b[0m\u001b[1;33m)\u001b[0m \u001b[1;32mfor\u001b[0m \u001b[0mword\u001b[0m \u001b[1;32min\u001b[0m \u001b[0mblob\u001b[0m\u001b[1;33m.\u001b[0m\u001b[0mwords\u001b[0m\u001b[1;33m}\u001b[0m\u001b[1;33m\u001b[0m\u001b[1;33m\u001b[0m\u001b[0m\n\u001b[0;32m      4\u001b[0m     \u001b[0msorted_words\u001b[0m \u001b[1;33m=\u001b[0m \u001b[0msorted\u001b[0m\u001b[1;33m(\u001b[0m\u001b[0mscores\u001b[0m\u001b[1;33m.\u001b[0m\u001b[0mitems\u001b[0m\u001b[1;33m(\u001b[0m\u001b[1;33m)\u001b[0m\u001b[1;33m,\u001b[0m \u001b[0mkey\u001b[0m\u001b[1;33m=\u001b[0m\u001b[1;32mlambda\u001b[0m \u001b[0mx\u001b[0m\u001b[1;33m:\u001b[0m \u001b[0mx\u001b[0m\u001b[1;33m[\u001b[0m\u001b[1;36m1\u001b[0m\u001b[1;33m]\u001b[0m\u001b[1;33m,\u001b[0m \u001b[0mreverse\u001b[0m\u001b[1;33m=\u001b[0m\u001b[1;32mTrue\u001b[0m\u001b[1;33m)\u001b[0m\u001b[1;33m\u001b[0m\u001b[1;33m\u001b[0m\u001b[0m\n\u001b[0;32m      5\u001b[0m     \u001b[1;32mfor\u001b[0m \u001b[0mword\u001b[0m\u001b[1;33m,\u001b[0m \u001b[0mscore\u001b[0m \u001b[1;32min\u001b[0m \u001b[0msorted_words\u001b[0m\u001b[1;33m[\u001b[0m\u001b[1;33m:\u001b[0m\u001b[1;36m25\u001b[0m\u001b[1;33m]\u001b[0m\u001b[1;33m:\u001b[0m\u001b[1;33m\u001b[0m\u001b[1;33m\u001b[0m\u001b[0m\n",
      "\u001b[1;31mNameError\u001b[0m: name 'bloblist' is not defined"
     ]
    }
   ],
   "source": [
    "    for i, blob in enumerate(bloblist):\n",
    "        print(\"Top words in document {}\".format(i + 1))\n",
    "        scores = {word: tfidf(word, blob, bloblist) for word in blob.words}\n",
    "        sorted_words = sorted(scores.items(), key=lambda x: x[1], reverse=True)\n",
    "        for word, score in sorted_words[:25]:\n",
    "            print(\"\\tWord: {}, TF-IDF: {}\".format(word, round(score, 5))) "
   ]
  },
  {
   "cell_type": "code",
   "execution_count": 70,
   "metadata": {},
   "outputs": [],
   "source": [
    "def createDictionary():\n",
    "\n",
    "    with codecs.open('terms.txt', 'r', 'utf-8') as tf:\n",
    "        text = tf.read()\n",
    "    terms = text.split('\\r\\n')\n",
    "    print(terms)\n",
    "    terms_arr = []\n",
    "    for i in terms:\n",
    "        url_num = i.split('.')[0]\n",
    "        term = '.'.join(i.split('.')[1:])\n",
    "        terms_arr.append([url_num, term])\n",
    "        \n",
    "    print(terms_arr)\n",
    "    \n",
    "    \n",
    "    term_dict = {}\n",
    "    for i in terms_arr:\n",
    "        val_sentences = []\n",
    "        url_num = i[0]\n",
    "        term = i[1]\n",
    "        filename = 'out/url-' + url_num + '.txt'\n",
    "        with codecs.open(filename, 'r', 'utf-8') as tf:\n",
    "            text = tf.read()\n",
    "            \n",
    "        lines = text.split('\\n')\n",
    "        for l in lines:\n",
    "            temp = l.lower()\n",
    "            if (temp.count(term) > 0):\n",
    "                val_sentences.append(l)\n",
    "        \n",
    "        term_dict[term] = val_sentences\n",
    "        print(term_dict)    \n",
    "    for key, val in enumerate(term_dict.items()):\n",
    "      #  print(val)\n",
    "      #  print(val[0])\n",
    "      #  print('-'*20)\n",
    "      #  for j in val[1]:\n",
    "      #      print(j)\n",
    "      #  print('='*50)\n"
   ]
  },
  {
   "cell_type": "code",
   "execution_count": 71,
   "metadata": {},
   "outputs": [
    {
     "name": "stdout",
     "output_type": "stream",
     "text": [
      "['1.mancini', '2.sugar', '3.gunners', '4.utd', '5.jamaica', '6.egypt', '7.celtic', '8.youngest', '9.asian', '10.dortmund']\n",
      "[['1', 'mancini'], ['2', 'sugar'], ['3', 'gunners'], ['4', 'utd'], ['5', 'jamaica'], ['6', 'egypt'], ['7', 'celtic'], ['8', 'youngest'], ['9', 'asian'], ['10', 'dortmund']]\n",
      "{'mancini': [\"By 2008, the club was in a financially precarious position. Thaksin Shinawatra had taken control of the club a year before, but his political travails saw his assets frozen.[29] Then, in August 2008, the club was purchased by the Abu Dhabi United Group. The takeover was immediately followed by a flurry of bids for high-profile players; the club broke the British transfer record by signing Brazilian international Robinho from Real Madrid for £32.5\\xa0million.[30] There wasn't a huge improvement in performance compared to the previous season despite the influx of money however, with the team finishing tenth, although they did well to reach the quarter-finals of the UEFA Cup. During the summer of 2009, the club took transfer spending to an unprecedented level, with an outlay of over £100\\xa0million on players Gareth Barry, Roque Santa Cruz, Kolo Touré, Emmanuel Adebayor, Carlos Tevez and Joleon Lescott.[31] In December 2009, Mark Hughes – who had been hired shortly before the change in ownership but was originally retained by the new board – was replaced as manager by Roberto Mancini.[32] City finished the season in fifth position in the Premier League, narrowly missing out on a place in the Champions League, and competed in the UEFA Europa League in season 2010–11.[33]\", \"The following season City failed to capitalise on the gains made in the first two full seasons of Mancini's reign. While City rarely seemed likely to drop below second in the table, they posed little title challenge all season. In the Champions League, the club was eliminated at the group stage for a second successive season, while a second FA Cup final in three seasons ended in a 1–0 defeat to relegated Wigan Athletic.[40] Mancini was dismissed two days later, ostensibly as he had failed to reach his targets for the season,[41] but BBC Sports Editor David Bond reported he had been sacked for his poor communication and relationships with players and executives.[42] In his place was appointed the Chilean Manuel Pellegrini.[43]\", ' Roberto Mancini', '^ \"Mark Hughes sacked as Man City appoint Mancini manager\". BBC Sport. 19 December 2009. Retrieved 19 December 2009.', '^ \"REVEALED: Bitter dressing room battles that sealed the fate of preening Mancini\". Daily Mail. London. 17 May 2013. Retrieved 7 October 2013.', '^ \"Roberto Mancini: Manchester City sack manager\". BBC Sport. 14 May 2013. Retrieved 19 April 2017.', '^ \"Roberto Mancini: Man City exit because of poor relationships\". BBC Sport. 14 May 2013. Retrieved 7 October 2013.']}\n",
      "{'mancini': [\"By 2008, the club was in a financially precarious position. Thaksin Shinawatra had taken control of the club a year before, but his political travails saw his assets frozen.[29] Then, in August 2008, the club was purchased by the Abu Dhabi United Group. The takeover was immediately followed by a flurry of bids for high-profile players; the club broke the British transfer record by signing Brazilian international Robinho from Real Madrid for £32.5\\xa0million.[30] There wasn't a huge improvement in performance compared to the previous season despite the influx of money however, with the team finishing tenth, although they did well to reach the quarter-finals of the UEFA Cup. During the summer of 2009, the club took transfer spending to an unprecedented level, with an outlay of over £100\\xa0million on players Gareth Barry, Roque Santa Cruz, Kolo Touré, Emmanuel Adebayor, Carlos Tevez and Joleon Lescott.[31] In December 2009, Mark Hughes – who had been hired shortly before the change in ownership but was originally retained by the new board – was replaced as manager by Roberto Mancini.[32] City finished the season in fifth position in the Premier League, narrowly missing out on a place in the Champions League, and competed in the UEFA Europa League in season 2010–11.[33]\", \"The following season City failed to capitalise on the gains made in the first two full seasons of Mancini's reign. While City rarely seemed likely to drop below second in the table, they posed little title challenge all season. In the Champions League, the club was eliminated at the group stage for a second successive season, while a second FA Cup final in three seasons ended in a 1–0 defeat to relegated Wigan Athletic.[40] Mancini was dismissed two days later, ostensibly as he had failed to reach his targets for the season,[41] but BBC Sports Editor David Bond reported he had been sacked for his poor communication and relationships with players and executives.[42] In his place was appointed the Chilean Manuel Pellegrini.[43]\", ' Roberto Mancini', '^ \"Mark Hughes sacked as Man City appoint Mancini manager\". BBC Sport. 19 December 2009. Retrieved 19 December 2009.', '^ \"REVEALED: Bitter dressing room battles that sealed the fate of preening Mancini\". Daily Mail. London. 17 May 2013. Retrieved 7 October 2013.', '^ \"Roberto Mancini: Manchester City sack manager\". BBC Sport. 14 May 2013. Retrieved 19 April 2017.', '^ \"Roberto Mancini: Man City exit because of poor relationships\". BBC Sport. 14 May 2013. Retrieved 7 October 2013.'], 'sugar': []}\n",
      "{'mancini': [\"By 2008, the club was in a financially precarious position. Thaksin Shinawatra had taken control of the club a year before, but his political travails saw his assets frozen.[29] Then, in August 2008, the club was purchased by the Abu Dhabi United Group. The takeover was immediately followed by a flurry of bids for high-profile players; the club broke the British transfer record by signing Brazilian international Robinho from Real Madrid for £32.5\\xa0million.[30] There wasn't a huge improvement in performance compared to the previous season despite the influx of money however, with the team finishing tenth, although they did well to reach the quarter-finals of the UEFA Cup. During the summer of 2009, the club took transfer spending to an unprecedented level, with an outlay of over £100\\xa0million on players Gareth Barry, Roque Santa Cruz, Kolo Touré, Emmanuel Adebayor, Carlos Tevez and Joleon Lescott.[31] In December 2009, Mark Hughes – who had been hired shortly before the change in ownership but was originally retained by the new board – was replaced as manager by Roberto Mancini.[32] City finished the season in fifth position in the Premier League, narrowly missing out on a place in the Champions League, and competed in the UEFA Europa League in season 2010–11.[33]\", \"The following season City failed to capitalise on the gains made in the first two full seasons of Mancini's reign. While City rarely seemed likely to drop below second in the table, they posed little title challenge all season. In the Champions League, the club was eliminated at the group stage for a second successive season, while a second FA Cup final in three seasons ended in a 1–0 defeat to relegated Wigan Athletic.[40] Mancini was dismissed two days later, ostensibly as he had failed to reach his targets for the season,[41] but BBC Sports Editor David Bond reported he had been sacked for his poor communication and relationships with players and executives.[42] In his place was appointed the Chilean Manuel Pellegrini.[43]\", ' Roberto Mancini', '^ \"Mark Hughes sacked as Man City appoint Mancini manager\". BBC Sport. 19 December 2009. Retrieved 19 December 2009.', '^ \"REVEALED: Bitter dressing room battles that sealed the fate of preening Mancini\". Daily Mail. London. 17 May 2013. Retrieved 7 October 2013.', '^ \"Roberto Mancini: Manchester City sack manager\". BBC Sport. 14 May 2013. Retrieved 19 April 2017.', '^ \"Roberto Mancini: Man City exit because of poor relationships\". BBC Sport. 14 May 2013. Retrieved 7 October 2013.'], 'sugar': [], 'gunners': []}\n",
      "{'mancini': [\"By 2008, the club was in a financially precarious position. Thaksin Shinawatra had taken control of the club a year before, but his political travails saw his assets frozen.[29] Then, in August 2008, the club was purchased by the Abu Dhabi United Group. The takeover was immediately followed by a flurry of bids for high-profile players; the club broke the British transfer record by signing Brazilian international Robinho from Real Madrid for £32.5\\xa0million.[30] There wasn't a huge improvement in performance compared to the previous season despite the influx of money however, with the team finishing tenth, although they did well to reach the quarter-finals of the UEFA Cup. During the summer of 2009, the club took transfer spending to an unprecedented level, with an outlay of over £100\\xa0million on players Gareth Barry, Roque Santa Cruz, Kolo Touré, Emmanuel Adebayor, Carlos Tevez and Joleon Lescott.[31] In December 2009, Mark Hughes – who had been hired shortly before the change in ownership but was originally retained by the new board – was replaced as manager by Roberto Mancini.[32] City finished the season in fifth position in the Premier League, narrowly missing out on a place in the Champions League, and competed in the UEFA Europa League in season 2010–11.[33]\", \"The following season City failed to capitalise on the gains made in the first two full seasons of Mancini's reign. While City rarely seemed likely to drop below second in the table, they posed little title challenge all season. In the Champions League, the club was eliminated at the group stage for a second successive season, while a second FA Cup final in three seasons ended in a 1–0 defeat to relegated Wigan Athletic.[40] Mancini was dismissed two days later, ostensibly as he had failed to reach his targets for the season,[41] but BBC Sports Editor David Bond reported he had been sacked for his poor communication and relationships with players and executives.[42] In his place was appointed the Chilean Manuel Pellegrini.[43]\", ' Roberto Mancini', '^ \"Mark Hughes sacked as Man City appoint Mancini manager\". BBC Sport. 19 December 2009. Retrieved 19 December 2009.', '^ \"REVEALED: Bitter dressing room battles that sealed the fate of preening Mancini\". Daily Mail. London. 17 May 2013. Retrieved 7 October 2013.', '^ \"Roberto Mancini: Manchester City sack manager\". BBC Sport. 14 May 2013. Retrieved 19 April 2017.', '^ \"Roberto Mancini: Man City exit because of poor relationships\". BBC Sport. 14 May 2013. Retrieved 7 October 2013.'], 'sugar': [], 'gunners': [], 'utd': []}\n",
      "{'mancini': [\"By 2008, the club was in a financially precarious position. Thaksin Shinawatra had taken control of the club a year before, but his political travails saw his assets frozen.[29] Then, in August 2008, the club was purchased by the Abu Dhabi United Group. The takeover was immediately followed by a flurry of bids for high-profile players; the club broke the British transfer record by signing Brazilian international Robinho from Real Madrid for £32.5\\xa0million.[30] There wasn't a huge improvement in performance compared to the previous season despite the influx of money however, with the team finishing tenth, although they did well to reach the quarter-finals of the UEFA Cup. During the summer of 2009, the club took transfer spending to an unprecedented level, with an outlay of over £100\\xa0million on players Gareth Barry, Roque Santa Cruz, Kolo Touré, Emmanuel Adebayor, Carlos Tevez and Joleon Lescott.[31] In December 2009, Mark Hughes – who had been hired shortly before the change in ownership but was originally retained by the new board – was replaced as manager by Roberto Mancini.[32] City finished the season in fifth position in the Premier League, narrowly missing out on a place in the Champions League, and competed in the UEFA Europa League in season 2010–11.[33]\", \"The following season City failed to capitalise on the gains made in the first two full seasons of Mancini's reign. While City rarely seemed likely to drop below second in the table, they posed little title challenge all season. In the Champions League, the club was eliminated at the group stage for a second successive season, while a second FA Cup final in three seasons ended in a 1–0 defeat to relegated Wigan Athletic.[40] Mancini was dismissed two days later, ostensibly as he had failed to reach his targets for the season,[41] but BBC Sports Editor David Bond reported he had been sacked for his poor communication and relationships with players and executives.[42] In his place was appointed the Chilean Manuel Pellegrini.[43]\", ' Roberto Mancini', '^ \"Mark Hughes sacked as Man City appoint Mancini manager\". BBC Sport. 19 December 2009. Retrieved 19 December 2009.', '^ \"REVEALED: Bitter dressing room battles that sealed the fate of preening Mancini\". Daily Mail. London. 17 May 2013. Retrieved 7 October 2013.', '^ \"Roberto Mancini: Manchester City sack manager\". BBC Sport. 14 May 2013. Retrieved 19 April 2017.', '^ \"Roberto Mancini: Man City exit because of poor relationships\". BBC Sport. 14 May 2013. Retrieved 7 October 2013.'], 'sugar': [], 'gunners': [], 'utd': [], 'jamaica': []}\n",
      "{'mancini': [\"By 2008, the club was in a financially precarious position. Thaksin Shinawatra had taken control of the club a year before, but his political travails saw his assets frozen.[29] Then, in August 2008, the club was purchased by the Abu Dhabi United Group. The takeover was immediately followed by a flurry of bids for high-profile players; the club broke the British transfer record by signing Brazilian international Robinho from Real Madrid for £32.5\\xa0million.[30] There wasn't a huge improvement in performance compared to the previous season despite the influx of money however, with the team finishing tenth, although they did well to reach the quarter-finals of the UEFA Cup. During the summer of 2009, the club took transfer spending to an unprecedented level, with an outlay of over £100\\xa0million on players Gareth Barry, Roque Santa Cruz, Kolo Touré, Emmanuel Adebayor, Carlos Tevez and Joleon Lescott.[31] In December 2009, Mark Hughes – who had been hired shortly before the change in ownership but was originally retained by the new board – was replaced as manager by Roberto Mancini.[32] City finished the season in fifth position in the Premier League, narrowly missing out on a place in the Champions League, and competed in the UEFA Europa League in season 2010–11.[33]\", \"The following season City failed to capitalise on the gains made in the first two full seasons of Mancini's reign. While City rarely seemed likely to drop below second in the table, they posed little title challenge all season. In the Champions League, the club was eliminated at the group stage for a second successive season, while a second FA Cup final in three seasons ended in a 1–0 defeat to relegated Wigan Athletic.[40] Mancini was dismissed two days later, ostensibly as he had failed to reach his targets for the season,[41] but BBC Sports Editor David Bond reported he had been sacked for his poor communication and relationships with players and executives.[42] In his place was appointed the Chilean Manuel Pellegrini.[43]\", ' Roberto Mancini', '^ \"Mark Hughes sacked as Man City appoint Mancini manager\". BBC Sport. 19 December 2009. Retrieved 19 December 2009.', '^ \"REVEALED: Bitter dressing room battles that sealed the fate of preening Mancini\". Daily Mail. London. 17 May 2013. Retrieved 7 October 2013.', '^ \"Roberto Mancini: Manchester City sack manager\". BBC Sport. 14 May 2013. Retrieved 19 April 2017.', '^ \"Roberto Mancini: Man City exit because of poor relationships\". BBC Sport. 14 May 2013. Retrieved 7 October 2013.'], 'sugar': [], 'gunners': [], 'utd': [], 'jamaica': [], 'egypt': []}\n",
      "{'mancini': [\"By 2008, the club was in a financially precarious position. Thaksin Shinawatra had taken control of the club a year before, but his political travails saw his assets frozen.[29] Then, in August 2008, the club was purchased by the Abu Dhabi United Group. The takeover was immediately followed by a flurry of bids for high-profile players; the club broke the British transfer record by signing Brazilian international Robinho from Real Madrid for £32.5\\xa0million.[30] There wasn't a huge improvement in performance compared to the previous season despite the influx of money however, with the team finishing tenth, although they did well to reach the quarter-finals of the UEFA Cup. During the summer of 2009, the club took transfer spending to an unprecedented level, with an outlay of over £100\\xa0million on players Gareth Barry, Roque Santa Cruz, Kolo Touré, Emmanuel Adebayor, Carlos Tevez and Joleon Lescott.[31] In December 2009, Mark Hughes – who had been hired shortly before the change in ownership but was originally retained by the new board – was replaced as manager by Roberto Mancini.[32] City finished the season in fifth position in the Premier League, narrowly missing out on a place in the Champions League, and competed in the UEFA Europa League in season 2010–11.[33]\", \"The following season City failed to capitalise on the gains made in the first two full seasons of Mancini's reign. While City rarely seemed likely to drop below second in the table, they posed little title challenge all season. In the Champions League, the club was eliminated at the group stage for a second successive season, while a second FA Cup final in three seasons ended in a 1–0 defeat to relegated Wigan Athletic.[40] Mancini was dismissed two days later, ostensibly as he had failed to reach his targets for the season,[41] but BBC Sports Editor David Bond reported he had been sacked for his poor communication and relationships with players and executives.[42] In his place was appointed the Chilean Manuel Pellegrini.[43]\", ' Roberto Mancini', '^ \"Mark Hughes sacked as Man City appoint Mancini manager\". BBC Sport. 19 December 2009. Retrieved 19 December 2009.', '^ \"REVEALED: Bitter dressing room battles that sealed the fate of preening Mancini\". Daily Mail. London. 17 May 2013. Retrieved 7 October 2013.', '^ \"Roberto Mancini: Manchester City sack manager\". BBC Sport. 14 May 2013. Retrieved 19 April 2017.', '^ \"Roberto Mancini: Man City exit because of poor relationships\". BBC Sport. 14 May 2013. Retrieved 7 October 2013.'], 'sugar': [], 'gunners': [], 'utd': [], 'jamaica': [], 'egypt': [], 'celtic': []}\n",
      "{'mancini': [\"By 2008, the club was in a financially precarious position. Thaksin Shinawatra had taken control of the club a year before, but his political travails saw his assets frozen.[29] Then, in August 2008, the club was purchased by the Abu Dhabi United Group. The takeover was immediately followed by a flurry of bids for high-profile players; the club broke the British transfer record by signing Brazilian international Robinho from Real Madrid for £32.5\\xa0million.[30] There wasn't a huge improvement in performance compared to the previous season despite the influx of money however, with the team finishing tenth, although they did well to reach the quarter-finals of the UEFA Cup. During the summer of 2009, the club took transfer spending to an unprecedented level, with an outlay of over £100\\xa0million on players Gareth Barry, Roque Santa Cruz, Kolo Touré, Emmanuel Adebayor, Carlos Tevez and Joleon Lescott.[31] In December 2009, Mark Hughes – who had been hired shortly before the change in ownership but was originally retained by the new board – was replaced as manager by Roberto Mancini.[32] City finished the season in fifth position in the Premier League, narrowly missing out on a place in the Champions League, and competed in the UEFA Europa League in season 2010–11.[33]\", \"The following season City failed to capitalise on the gains made in the first two full seasons of Mancini's reign. While City rarely seemed likely to drop below second in the table, they posed little title challenge all season. In the Champions League, the club was eliminated at the group stage for a second successive season, while a second FA Cup final in three seasons ended in a 1–0 defeat to relegated Wigan Athletic.[40] Mancini was dismissed two days later, ostensibly as he had failed to reach his targets for the season,[41] but BBC Sports Editor David Bond reported he had been sacked for his poor communication and relationships with players and executives.[42] In his place was appointed the Chilean Manuel Pellegrini.[43]\", ' Roberto Mancini', '^ \"Mark Hughes sacked as Man City appoint Mancini manager\". BBC Sport. 19 December 2009. Retrieved 19 December 2009.', '^ \"REVEALED: Bitter dressing room battles that sealed the fate of preening Mancini\". Daily Mail. London. 17 May 2013. Retrieved 7 October 2013.', '^ \"Roberto Mancini: Manchester City sack manager\". BBC Sport. 14 May 2013. Retrieved 19 April 2017.', '^ \"Roberto Mancini: Man City exit because of poor relationships\". BBC Sport. 14 May 2013. Retrieved 7 October 2013.'], 'sugar': [], 'gunners': [], 'utd': [], 'jamaica': [], 'egypt': [], 'celtic': [], 'youngest': []}\n",
      "{'mancini': [\"By 2008, the club was in a financially precarious position. Thaksin Shinawatra had taken control of the club a year before, but his political travails saw his assets frozen.[29] Then, in August 2008, the club was purchased by the Abu Dhabi United Group. The takeover was immediately followed by a flurry of bids for high-profile players; the club broke the British transfer record by signing Brazilian international Robinho from Real Madrid for £32.5\\xa0million.[30] There wasn't a huge improvement in performance compared to the previous season despite the influx of money however, with the team finishing tenth, although they did well to reach the quarter-finals of the UEFA Cup. During the summer of 2009, the club took transfer spending to an unprecedented level, with an outlay of over £100\\xa0million on players Gareth Barry, Roque Santa Cruz, Kolo Touré, Emmanuel Adebayor, Carlos Tevez and Joleon Lescott.[31] In December 2009, Mark Hughes – who had been hired shortly before the change in ownership but was originally retained by the new board – was replaced as manager by Roberto Mancini.[32] City finished the season in fifth position in the Premier League, narrowly missing out on a place in the Champions League, and competed in the UEFA Europa League in season 2010–11.[33]\", \"The following season City failed to capitalise on the gains made in the first two full seasons of Mancini's reign. While City rarely seemed likely to drop below second in the table, they posed little title challenge all season. In the Champions League, the club was eliminated at the group stage for a second successive season, while a second FA Cup final in three seasons ended in a 1–0 defeat to relegated Wigan Athletic.[40] Mancini was dismissed two days later, ostensibly as he had failed to reach his targets for the season,[41] but BBC Sports Editor David Bond reported he had been sacked for his poor communication and relationships with players and executives.[42] In his place was appointed the Chilean Manuel Pellegrini.[43]\", ' Roberto Mancini', '^ \"Mark Hughes sacked as Man City appoint Mancini manager\". BBC Sport. 19 December 2009. Retrieved 19 December 2009.', '^ \"REVEALED: Bitter dressing room battles that sealed the fate of preening Mancini\". Daily Mail. London. 17 May 2013. Retrieved 7 October 2013.', '^ \"Roberto Mancini: Manchester City sack manager\". BBC Sport. 14 May 2013. Retrieved 19 April 2017.', '^ \"Roberto Mancini: Man City exit because of poor relationships\". BBC Sport. 14 May 2013. Retrieved 7 October 2013.'], 'sugar': [], 'gunners': [], 'utd': [], 'jamaica': [], 'egypt': [], 'celtic': [], 'youngest': [], 'asian': []}\n",
      "{'mancini': [\"By 2008, the club was in a financially precarious position. Thaksin Shinawatra had taken control of the club a year before, but his political travails saw his assets frozen.[29] Then, in August 2008, the club was purchased by the Abu Dhabi United Group. The takeover was immediately followed by a flurry of bids for high-profile players; the club broke the British transfer record by signing Brazilian international Robinho from Real Madrid for £32.5\\xa0million.[30] There wasn't a huge improvement in performance compared to the previous season despite the influx of money however, with the team finishing tenth, although they did well to reach the quarter-finals of the UEFA Cup. During the summer of 2009, the club took transfer spending to an unprecedented level, with an outlay of over £100\\xa0million on players Gareth Barry, Roque Santa Cruz, Kolo Touré, Emmanuel Adebayor, Carlos Tevez and Joleon Lescott.[31] In December 2009, Mark Hughes – who had been hired shortly before the change in ownership but was originally retained by the new board – was replaced as manager by Roberto Mancini.[32] City finished the season in fifth position in the Premier League, narrowly missing out on a place in the Champions League, and competed in the UEFA Europa League in season 2010–11.[33]\", \"The following season City failed to capitalise on the gains made in the first two full seasons of Mancini's reign. While City rarely seemed likely to drop below second in the table, they posed little title challenge all season. In the Champions League, the club was eliminated at the group stage for a second successive season, while a second FA Cup final in three seasons ended in a 1–0 defeat to relegated Wigan Athletic.[40] Mancini was dismissed two days later, ostensibly as he had failed to reach his targets for the season,[41] but BBC Sports Editor David Bond reported he had been sacked for his poor communication and relationships with players and executives.[42] In his place was appointed the Chilean Manuel Pellegrini.[43]\", ' Roberto Mancini', '^ \"Mark Hughes sacked as Man City appoint Mancini manager\". BBC Sport. 19 December 2009. Retrieved 19 December 2009.', '^ \"REVEALED: Bitter dressing room battles that sealed the fate of preening Mancini\". Daily Mail. London. 17 May 2013. Retrieved 7 October 2013.', '^ \"Roberto Mancini: Manchester City sack manager\". BBC Sport. 14 May 2013. Retrieved 19 April 2017.', '^ \"Roberto Mancini: Man City exit because of poor relationships\". BBC Sport. 14 May 2013. Retrieved 7 October 2013.'], 'sugar': [], 'gunners': [], 'utd': [], 'jamaica': [], 'egypt': [], 'celtic': [], 'youngest': [], 'asian': [], 'dortmund': ['Borussia DortmundSenior career*Years', 'Borussia Dortmund', '→ Borussia Dortmund (loan)', \"Born in Hershey, Pennsylvania, Pulisic began his professional career at Borussia Dortmund, where, after fast progression through the team's youth academy, in which he featured in only 15 youth games, he was promoted to the senior team in 2016.[12] He featured sparingly in his first season at the club, but his involvement increased dramatically in the following campaign, where he was a mainstay in the Dortmund team that won the 2016–17 DFB-Pokal.[13] In January 2019, Pulisic moved to Chelsea in a transfer worth $73\\xa0million, making him the most expensive American player of all time and subsequently spent the remainder of the 2018-19 season on loan at Dortmund.\", '2.1 Borussia Dortmund', 'Pulisic has a cousin, Will Pulisic, who also represented the United States at the under-17 level, as a goalkeeper, and who also played for Borussia Dortmund.[17]', 'Borussia Dortmund[edit]', 'In February 2015, Borussia Dortmund signed 16-year-old Pulisic and assigned him first to their U17 squad and in Summer 2015 to the U19. After scoring 10 and assisting 8 in just 15 games with the Dortmund youth teams,[19] Pulisic was called to join the first team over winter break.[20]', 'Pulisic scored his first Bundesliga goal for Borussia Dortmund on April 17, opening the scoring in a 3–0 home win against Hamburger SV. It made him the youngest non-German and fourth-youngest player to score a goal in the Bundesliga, at just 17 years and 212 days old.[26] With his goal against VfB Stuttgart on April 23, Pulisic broke another Bundesliga scoring record by becoming the youngest player to score two goals in the top-flight league. The game also marked his first yellow card in the Bundesliga, as a result of a challenge on Emiliano Insúa.[27] Pulisic during a training session with Borussia Dortmund in Bad Ragaz, Switzerland', \"In the 2016 International Champions Cup friendly pre-season tournament, Pulisic scored in stoppage time against Manchester City to send the clubs into penalties.[28] During his first competitive appearance in his second year with the club, Pulisic became Dortmund's youngest player ever to play in the UEFA Champions League.[29] The following weekend he scored his first goal of the season and provided two assists in a 6–0 victory against Darmstadt 98,[30] one day before his 18th birthday.\", \"In a September Champions League group stage game against Real Madrid, with Dortmund trailing 2–1, Pulisic came on as a second-half substitute and helped set up André Schürrle's late goal, allowing Dortmund to earn a 2–2 draw.[31] In a substitute appearance on October 22, Pulisic assisted one goal and scored the equalizer against FC Ingolstadt, who were last place at the beginning of the day, to salvage a draw, coming back from 3–1 down.[32]\", \"On January 23, 2017, Pulisic signed a new deal with Dortmund which would keep him at the club until 2020.[33][34] On March 8, 2017, Pulisic scored his first UEFA Champions League goal in a 4–0 victory over Benfica in the round of 16, making him BVB's youngest ever scorer in the competition at the age of 18 years, 5 months, and 18 days.[35] Pulisic also assisted one of Pierre-Emerick Aubameyang's goals in the win, advancing Dortmund to the quarter-finals.[36] On August 5, 2017, Pulisic scored the first goal in the DFL-Supercup against Bayern Munich.[37]\", \"On January 2, 2019, Pulisic signed with Premier League club Chelsea for a fee of €64\\xa0million ($73\\xa0million; £58\\xa0million), in a deal that saw him stay at Dortmund on loan for the remainder of the 2018–19 season.[38] This transfer made Pulisic the most expensive American player and Borussia Dortmund's second-most-expensive sale of all time, behind Ousmane Dembélé.[39] Upon his arrival in the summer, he spoke of his desire to replicate the form shown by Eden Hazard, and described the forward as a footballing idol.[40]\", 'Pulisic is a modern-day number 10. His low center of gravity allows him to dribble at high speeds.[53] Since the 2018/19 season, he has been deployed on the wing for Dortmund and, since signing for Chelsea. His adept weak-foot skills allow him to play on either side of the field. Because of his style of play, Pulisic is often subjected to fouls by opponents.[54][55][56]', \"In 2017, George Dohrmann for Bleacher Report wrote, “After decades of thirsting for a player who could be considered truly world class.. Americans now finally—finally!—have a player capable of making an indelible mark on the world's game.”[57] Pulisic achieved several Bundesliga and Dortmund records; he is the youngest non-German to score in the league, the youngest player to score two Bundesliga goals, and is the youngest player to appear and score for Dortmund in the UEFA Champions League.[58]\", 'Borussia Dortmund', 'Borussia Dortmund[60]', '^ \"Rush Alumni Christian Pulisic Makes Bundesliga Debut with Borussia Dortmund\". Rush Soccer Club. RushCanada.com. Retrieved October 6, 2017.', '^ Uersfeld, Stephan (January 5, 2016). \"U.S. youngster Christian Pulisic trains with Borussia Dortmund first team\". ESPN. Retrieved January 2, 2019.', '^ Bird, Liviu. \"USA\\'s Pulisic a fast-rising talent at Dortmund\". www.si.com. Retrieved January 26, 2016.', '^ \"U.S. under-17 keeper Will Pulisic set to join cousin Christian at Dortmund\". ESPN FC. March 22, 2016. Retrieved April 18, 2016.', '^ \"Who is US international Christian Pulisic, and how did he make the Borussia Dortmund first team at 17 years old?\". MLSsoccer.com.', '^ \"Christian Pulisic scores in Dortmund win\". Soccer By Ives. Retrieved January 26, 2016.', '^ \"Christian Pulisic scores second friendly goal of month for Dortmund\". Soccer By Ives. Retrieved January 26, 2016.', '^ \"American 17-year-old Christian Pulisic makes Bundesliga debut for Dortmund\". ESPN FC. January 30, 2016. Retrieved January 30, 2016.', '^ \"Dortmund deal Porto heavy blow\". UEFA.com.', '^ \"Dortmund vs. Manchester City Recap\". ESPNFC.com.', '^ \"Watch Christian Pulisic score for Borussia Dortmund as the American\\'s hot streak continues\". FoxSports.com.', '^ \"Christian Pulisic: Dortmund showed \\'good heart\\' to fight back for draw\". ESPN FC. October 22, 2016.', '^ \"Borussia Dortmund also tie Christian Pulisic to the club for the long-term\". Borussia Dortmund. January 23, 2017. Retrieved January 23, 2017.', '^ \"Christian Pulisic extends Borussia Dortmund deal until 2020\". ESPN FC. January 23, 2017. Retrieved January 23, 2017.', '^ \"Christian Pulisic becomes Dortmund\\'s youngest UCL goalscorer\". ESPN. March 8, 2017.', '^ \"Miss by Dortmund\\'s Bartra hands Bayern German Super Cup\". August 5, 2017.', '^ \"Christian Pulisic: Chelsea sign Borussia Dortmund attacker for £58m\". BBC Sport. January 2, 2019. Retrieved January 2, 2019.', \"Categories: 1998 birthsLiving peoplePeople from Hershey, PennsylvaniaSoccer players from PennsylvaniaAmerican soccer playersAmerican expatriate soccer playersAssociation football midfieldersBorussia Dortmund playersChelsea F.C. playersBundesliga playersPremier League playersExpatriate footballers in GermanyUnited States men's youth international soccer playersUnited States men's international soccer playersAmerican people of Croatian descentAmerican expatriate soccer players in GermanyCopa América Centenario players2019 CONCACAF Gold Cup playersHidden categories: CS1 Croatian-language sources (hr)Use mdy dates from September 2019Use American English from September 2016All Wikipedia articles written in American EnglishArticles using Template:Medal with Runner-upCommons category link is on WikidataArticles with German-language external links\"]}\n"
     ]
    }
   ],
   "source": [
    "\n",
    "\n",
    "#getHighFrequency()\n",
    "createDictionary()"
   ]
  },
  {
   "cell_type": "code",
   "execution_count": null,
   "metadata": {},
   "outputs": [],
   "source": []
  },
  {
   "cell_type": "code",
   "execution_count": null,
   "metadata": {},
   "outputs": [],
   "source": []
  }
 ],
 "metadata": {
  "kernelspec": {
   "display_name": "Python 3",
   "language": "python",
   "name": "python3"
  },
  "language_info": {
   "codemirror_mode": {
    "name": "ipython",
    "version": 3
   },
   "file_extension": ".py",
   "mimetype": "text/x-python",
   "name": "python",
   "nbconvert_exporter": "python",
   "pygments_lexer": "ipython3",
   "version": "3.7.3"
  }
 },
 "nbformat": 4,
 "nbformat_minor": 2
}
